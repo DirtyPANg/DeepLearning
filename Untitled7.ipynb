{
 "cells": [
  {
   "attachments": {},
   "cell_type": "markdown",
   "id": "3f4c6071",
   "metadata": {},
   "source": [
    "Title: Investigating Inverse Residual Networks for Handwritten Digit Recognition using the MNIST dataset\n",
    "\n",
    "Problem Identification:\n",
    "The goal of this project is to explore the use of inverse residual networks (IRNs) for handwritten digit recognition using the MNIST dataset. The MNIST dataset consists of 70,000 grayscale images of handwritten digits, \n",
    "with a size of 28x28 pixels. These images are divided into 60,000 training examples and 10,000 test examples. Each image belongs to one of 10 classes, representing digits from 0 to 9.\n",
    "\n",
    "Traditional residual networks (ResNets) utilize skip connections that allow the gradients to flow more efficiently through deeper networks, thus enabling the training of deeper and more accurate models. \n",
    "In this project, we aim to investigate the effectiveness of IRNs in the context of MNIST digit recognition. Instead of using fixed-length outputs from convolutional layers as in typical convolutional neural networks (CNNs), we propose to use recurrent neural networks (RNNs) to generate variable-length outputs for each convolutional layer. \n",
    "The outputs will then be padded with zeros to achieve a fixed-length representation that can be fed back into the previous layer.\n",
    "\n",
    "Data Collection:\n",
    "The MNIST dataset is widely available and can be easily loaded using the PyTorch framework. The torchvision package provides a convenient function to download and load the dataset. The code snippet below shows how to load the MNIST dataset using PyTorch:"
   ]
  },
  {
   "cell_type": "code",
   "execution_count": 9,
   "id": "716684b0",
   "metadata": {},
   "outputs": [],
   "source": [
    "import torch\n",
    "import torchvision\n",
    "import torchvision.transforms as transforms\n",
    "import torch.nn as nn\n",
    "import torch.optim as optim\n",
    "from torch.autograd import Variable\n",
    "import torch.nn.functional as F\n",
    "import random\n",
    "import matplotlib.pyplot as plt\n",
    "import numpy as np  \n",
    "# Load and preprocess the MNIST dataset\n",
    "transform = transforms.Compose(\n",
    "    [transforms.ToTensor(),\n",
    "     transforms.Normalize((0.5,), (0.5,))])\n",
    "\n",
    "trainset = torchvision.datasets.MNIST(root='./data', train=True,\n",
    "                                      download=True, transform=transform)\n",
    "trainloader = torch.utils.data.DataLoader(trainset, batch_size=652,\n",
    "                                          shuffle=True, num_workers=0)\n",
    "\n",
    "testset = torchvision.datasets.MNIST(root='./data', train=False,\n",
    "                                     download=True, transform=transform)\n",
    "testloader = torch.utils.data.DataLoader(testset, batch_size=652,\n",
    "                                         shuffle=False, num_workers=0)\n",
    "\n",
    "\n"
   ]
  },
  {
   "cell_type": "code",
   "execution_count": 10,
   "id": "13bc37ae",
   "metadata": {},
   "outputs": [
    {
     "data": {
      "image/png": "[encoded data removed]",
      "text/plain": [
       "<Figure size 600x600 with 9 Axes>"
      ]
     },
     "metadata": {},
     "output_type": "display_data"
    }
   ],
   "source": [
    "num_images = 9  # Number of images to display\n",
    "indices = np.random.choice(len(trainset), num_images, replace=False)  # Randomly select image indices\n",
    "\n",
    "fig, axes = plt.subplots(3, 3, figsize=(6, 6))\n",
    "axes = axes.ravel()\n",
    "\n",
    "for i, idx in enumerate(indices):\n",
    "    img, label = trainset[idx]\n",
    "    img = img / 2 + 0.5  # Unnormalize\n",
    "    npimg = img.numpy()\n",
    "    axes[i].imshow(np.transpose(npimg, (1, 2, 0)), cmap='gray')\n",
    "    axes[i].set_title(f\"Label: {label}\")\n",
    "    axes[i].axis('off')\n",
    "\n",
    "plt.tight_layout()\n",
    "plt.show()"
   ]
  },
  {
   "cell_type": "code",
   "execution_count": 12,
   "id": "1b8bed48",
   "metadata": {},
   "outputs": [],
   "source": [
    "# Define the neural network\n",
    "class Net(nn.Module):\n",
    "    def __init__(self):\n",
    "        super(Net, self).__init__()\n",
    "        self.fc1 = nn.Linear(28 * 28, 128)\n",
    "        self.fc2 = nn.Linear(128, 128)\n",
    "        self.rnn = nn.GRU(1, 1, batch_first=True)\n",
    "        self.fc4 = nn.Linear(128, 128)\n",
    "        self.fc3 = nn.Linear(128 + 128, 10)  # Update the input size to match the concatenated output size\n",
    "\n",
    "    def forward(self, x):\n",
    "      x = x.view(-1, 28 * 28)\n",
    "      \n",
    "      fc1_out = torch.relu(self.fc1(x))\n",
    "      fc2_out = torch.relu(self.fc2(fc1_out))\n",
    "    \n",
    "      fc2_copy = fc2_out\n",
    "      for _ in range(5):\n",
    "          rnn_output_list = []\n",
    "          for i in range(128):\n",
    "            _, rnn_output = self.rnn(fc2_copy[:, i].unsqueeze(1).unsqueeze(1))\n",
    "            rnn_output_list.append(rnn_output.squeeze(0))\n",
    "        \n",
    "          rnn_output = torch.cat(rnn_output_list, dim=1)\n",
    "          fc4_out = self.fc4(rnn_output)\n",
    "          fc2_copy = self.fc2(fc4_out+fc1_out)\n",
    "\n",
    "        \n",
    "      concatenated_output = torch.cat((fc2_copy, fc4_out), dim=1)\n",
    "      x = self.fc3(concatenated_output)\n",
    "        \n",
    "      return x\n",
    "\n",
    "\n",
    "net = Net()"
   ]
  },
  {
   "cell_type": "code",
   "execution_count": 13,
   "id": "860fd4a8",
   "metadata": {},
   "outputs": [],
   "source": [
    "# Define the loss function and the optimizer\n",
    "criterion = nn.CrossEntropyLoss()\n",
    "optimizer = optim.SGD(net.parameters(), lr=0.001, momentum=0.9)\n",
    "\n",
    "# Train the neural network\n",
    "for epoch in range(10):\n",
    "    running_loss = 0.0\n",
    "    for i, data in enumerate(trainloader, 0):\n",
    "        inputs, labels = data\n",
    "        optimizer.zero_grad()\n",
    "\n",
    "        outputs = net(inputs)\n",
    "        loss = criterion(outputs, labels)\n",
    "        loss.backward()\n",
    "        optimizer.step()\n",
    "\n",
    "        running_loss += loss.item()\n",
    "\n",
    "    print(f'Epoch {epoch + 1}, loss: {running_loss / (i + 1)}')\n",
    "\n",
    "# Test the neural network\n",
    "correct = 0\n",
    "total = 0\n",
    "with torch.no_grad():\n",
    "    for data in testloader:\n",
    "        images, labels = data\n",
    "        outputs = net(images)\n",
    "        _, predicted = torch.max(outputs.data, 1)\n",
    "        total += labels.size(0)\n",
    "        correct += (predicted == labels).sum().item()\n",
    "\n",
    "print(f'Accuracy on the test dataset: {correct / total * 100}%')"
   ]
  },
  {
   "cell_type": "markdown",
   "id": "d16ab019",
   "metadata": {},
   "source": [
    "Epoch 1, loss: 2.2370440242111043\n",
    "Epoch 2, loss: 1.9708891478917931\n",
    "Epoch 3, loss: 1.4705492873345651\n",
    "Epoch 4, loss: 0.9992233854468151\n",
    "Epoch 5, loss: 0.7482865145129542\n",
    "Epoch 6, loss: 0.621783100148683\n",
    "Epoch 7, loss: 0.5416320786681227\n",
    "Epoch 8, loss: 0.49304417192295036\n",
    "Epoch 9, loss: 0.45763661528146393\n",
    "Epoch 10, loss: 0.43261791461257526\n",
    "Accuracy on the test dataset: 88.83%"
   ]
  },
  {
   "cell_type": "markdown",
   "id": "e8da989d",
   "metadata": {},
   "source": [
    "\n",
    "In conclusion, the modified neural network with residual RNN connections does not show a significant improvement in performance compared to the standard neural network. The results obtained indicate that the added complexity may not necessarily lead to better performance for the given problem, which is the classification of MNIST digits in this case. It is essential to note that the residual RNN connections method may still have potential improvements, and further investigation and experimentation would be required to optimize its performance.\n",
    "\n",
    "When designing deep learning models, it is crucial to consider the problem's complexity and the amount of available data. In some cases, simpler models might achieve comparable or even better results with fewer computational resources. It is essential to experiment with different architectures, hyperparameters, and techniques to find the best-suited model for the task at hand.\n",
    "\n",
    "Keep in mind that deep learning is an active research field, and new methods and architectures are constantly being developed. As a result, it's essential to stay up-to-date with the latest research to identify and apply promising techniques to your specific problem domain."
   ]
  }
 ],
 "metadata": {
  "kernelspec": {
   "display_name": "Python 3 (ipykernel)",
   "language": "python",
   "name": "python3"
  },
  "language_info": {
   "codemirror_mode": {
    "name": "ipython",
    "version": 3
   },
   "file_extension": ".py",
   "mimetype": "text/x-python",
   "name": "python",
   "nbconvert_exporter": "python",
   "pygments_lexer": "ipython3",
   "version": "3.10.6"
  }
 },
 "nbformat": 4,
 "nbformat_minor": 5
}
